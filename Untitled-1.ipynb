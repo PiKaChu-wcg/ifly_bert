{
    "cells": [
        {
            "cell_type": "code",
            "execution_count": 1,
            "source": [],
            "outputs": [],
            "metadata": {}
        },
        {
            "cell_type": "code",
            "execution_count": 2,
            "source": [
                "turn_to_cuda=lambda x: [turn_to_cuda(y) for y in x ] if type(x)==list else  x.cuda()\r\n",
                "for e in range(epoch):\r\n",
                "    print(f\"epoch{e+1}ing:\")\r\n",
                "    err=[]\r\n",
                "    for batch,item in tqdm(enumerate(data.dataloader)):\r\n",
                "        model.train()\r\n",
                "        item=turn_to_cuda(item) if use_gpu else item\r\n",
                "        try:\r\n",
                "            output=model(item)\r\n",
                "        except:\r\n",
                "            print(item[0])\r\n",
                "            assert()\r\n",
                "        loss=torch.tensor(0).cuda() if use_gpu else torch.tensor(0)\r\n",
                "        for i in range(4):\r\n",
                "            loss=loss_fn(output[i],item[1][i])+loss\r\n",
                "            metric(output[i],item[1][i])\r\n",
                "        err.append(loss.item())\r\n",
                "        optimizer.zero_grad()\r\n",
                "        loss.backward()\r\n",
                "        optimizer.step()\r\n",
                "    writer.add_scalars(\"train\",{\"loss\":sum(err)/len(err),\"F1\":metric.compute()},e)\r\n",
                "    print(f\"epoch{e+1} has been done!\\nthe the loss is {sum(err)/len(err):.2f} now!\\nAnd the F1 value is {metric.compute():.2f} now!\")\r\n",
                "    if e%5==4:\r\n",
                "        torch.save(model,\"model/model_\"+str(e)+\".pth\")\r\n",
                "\r\n",
                "\r\n"
            ],
            "outputs": [
                {
                    "output_type": "stream",
                    "name": "stderr",
                    "text": [
                        "0it [00:00, ?it/s]"
                    ]
                },
                {
                    "output_type": "stream",
                    "name": "stdout",
                    "text": [
                        "epoch1ing:\n"
                    ]
                },
                {
                    "output_type": "stream",
                    "name": "stderr",
                    "text": [
                        "2320it [03:54,  9.90it/s]\n",
                        "0it [00:00, ?it/s]"
                    ]
                },
                {
                    "output_type": "stream",
                    "name": "stdout",
                    "text": [
                        "epoch1 has been done, and the the loss is 15.387722920754861 now!\n",
                        "epoch2ing:\n"
                    ]
                },
                {
                    "output_type": "stream",
                    "name": "stderr",
                    "text": [
                        "2320it [03:58,  9.71it/s]\n",
                        "1it [00:00,  8.02it/s]"
                    ]
                },
                {
                    "output_type": "stream",
                    "name": "stdout",
                    "text": [
                        "epoch2 has been done, and the the loss is 12.514931681032838 now!\n",
                        "epoch3ing:\n"
                    ]
                },
                {
                    "output_type": "stream",
                    "name": "stderr",
                    "text": [
                        "2320it [03:59,  9.70it/s]\n",
                        "1it [00:00,  6.47it/s]"
                    ]
                },
                {
                    "output_type": "stream",
                    "name": "stdout",
                    "text": [
                        "epoch3 has been done, and the the loss is 10.595957700342968 now!\n",
                        "epoch4ing:\n"
                    ]
                },
                {
                    "output_type": "stream",
                    "name": "stderr",
                    "text": [
                        "2320it [03:58,  9.71it/s]\n",
                        "2it [00:00, 11.20it/s]"
                    ]
                },
                {
                    "output_type": "stream",
                    "name": "stdout",
                    "text": [
                        "epoch4 has been done, and the the loss is 9.261557315752425 now!\n",
                        "epoch5ing:\n"
                    ]
                },
                {
                    "output_type": "stream",
                    "name": "stderr",
                    "text": [
                        "2320it [03:51, 10.01it/s]\n",
                        "0it [00:00, ?it/s]"
                    ]
                },
                {
                    "output_type": "stream",
                    "name": "stdout",
                    "text": [
                        "epoch5 has been done, and the the loss is 8.144286187969405 now!\n",
                        "epoch6ing:\n"
                    ]
                },
                {
                    "output_type": "stream",
                    "name": "stderr",
                    "text": [
                        "2320it [03:52,  9.97it/s]\n"
                    ]
                },
                {
                    "output_type": "stream",
                    "name": "stdout",
                    "text": [
                        "epoch6 has been done, and the the loss is 7.307639057086459 now!\n"
                    ]
                },
                {
                    "output_type": "stream",
                    "name": "stderr",
                    "text": [
                        "2it [00:00, 13.37it/s]"
                    ]
                },
                {
                    "output_type": "stream",
                    "name": "stdout",
                    "text": [
                        "epoch7ing:\n"
                    ]
                },
                {
                    "output_type": "stream",
                    "name": "stderr",
                    "text": [
                        "2320it [03:58,  9.74it/s]\n",
                        "0it [00:00, ?it/s]"
                    ]
                },
                {
                    "output_type": "stream",
                    "name": "stdout",
                    "text": [
                        "epoch7 has been done, and the the loss is 6.634836631859171 now!\n",
                        "epoch8ing:\n"
                    ]
                },
                {
                    "output_type": "stream",
                    "name": "stderr",
                    "text": [
                        "2320it [04:07,  9.38it/s]\n",
                        "1it [00:00,  8.29it/s]"
                    ]
                },
                {
                    "output_type": "stream",
                    "name": "stdout",
                    "text": [
                        "epoch8 has been done, and the the loss is 6.090755219629099 now!\n",
                        "epoch9ing:\n"
                    ]
                },
                {
                    "output_type": "stream",
                    "name": "stderr",
                    "text": [
                        "2320it [03:58,  9.71it/s]\n",
                        "1it [00:00,  7.83it/s]"
                    ]
                },
                {
                    "output_type": "stream",
                    "name": "stdout",
                    "text": [
                        "epoch9 has been done, and the the loss is 5.577059040886574 now!\n",
                        "epoch10ing:\n"
                    ]
                },
                {
                    "output_type": "stream",
                    "name": "stderr",
                    "text": [
                        "2320it [04:00,  9.65it/s]"
                    ]
                },
                {
                    "output_type": "stream",
                    "name": "stdout",
                    "text": [
                        "epoch10 has been done, and the the loss is 5.1671269785998195 now!\n"
                    ]
                },
                {
                    "output_type": "stream",
                    "name": "stderr",
                    "text": [
                        "\n"
                    ]
                }
            ],
            "metadata": {}
        },
        {
            "cell_type": "code",
            "execution_count": 3,
            "source": [
                "\r\n"
            ],
            "outputs": [],
            "metadata": {}
        },
        {
            "cell_type": "code",
            "execution_count": null,
            "source": [],
            "outputs": [],
            "metadata": {}
        }
    ],
    "metadata": {
        "orig_nbformat": 4,
        "language_info": {
            "name": "python",
            "version": "3.8.8",
            "mimetype": "text/x-python",
            "codemirror_mode": {
                "name": "ipython",
                "version": 3
            },
            "pygments_lexer": "ipython3",
            "nbconvert_exporter": "python",
            "file_extension": ".py"
        },
        "kernelspec": {
            "name": "python3",
            "display_name": "Python 3.8.8 64-bit ('base': conda)"
        },
        "interpreter": {
            "hash": "40c4e17f077218d16613fe0a521debfb2207e39289331d3ad681e8733da961f0"
        }
    },
    "nbformat": 4,
    "nbformat_minor": 2
}