{
    "cells": [
        {
            "cell_type": "code",
            "execution_count": 1,
            "source": [],
            "outputs": [],
            "metadata": {}
        },
        {
            "cell_type": "code",
            "execution_count": 6,
            "source": [
                "import torch\r\n",
                "import pandas as pd\r\n",
                "from preprocess import Data\r\n",
                "from tqdm import tqdm\r\n",
                "import numpy as np\r\n",
                "import argparse\r\n",
                "from transformers import BertTokenizer\r\n",
                "\r\n",
                "class Submit:\r\n",
                "    def __init__(self,data_path,model_path,data):\r\n",
                "        data_test=Data(data.tokenizer,data_path,train=False,batch_size=1)\r\n",
                "        self.model=torch.load(model_path)\r\n",
                "        self.model.eval()\r\n",
                "        self.kd=data.kd\r\n",
                "        self.dataloader=data_test.dataloader\r\n",
                "        self.result=pd.read_csv(data_path)[['index','TestQuestionID']]\r\n",
                "    def mkres(self,to):\r\n",
                "        turn_to_cuda=lambda x: [turn_to_cuda(y) for y in x ] if type(x)==list else  x.cuda()\r\n",
                "        for _,item in tqdm(enumerate(self.dataloader)):\r\n",
                "            item[0]=turn_to_cuda(item[0])\r\n",
                "            # item=turn_to_cuda(item)\r\n",
                "            try:\r\n",
                "                output=self.model(item)\r\n",
                "            except:\r\n",
                "                print(item)\r\n",
                "                continue\r\n",
                "            k_level=item[1][0][0]+1\r\n",
                "            testid=item[1][1][0]\r\n",
                "            kid=output[k_level-1][0].argmax(dim=-1).item()\r\n",
                "            # print(f\"klevel:{k_level}\\nkid:{kid}\")\r\n",
                "            kid=self.kd.check_l(k_level,kid)\r\n",
                "            self.result.loc[self.result['TestQuestionID']==testid,'KnowledgeID']=kid\r\n",
                "            self.result.loc[self.result['TestQuestionID']==testid,'q_Level']=output[-1][0].argmax(dim=-1).item()+1\r\n",
                "        # self.result=self.result.fillna(0)\r\n",
                "        self.result['KnowledgeID']=self.result['KnowledgeID'].astype(np.int64)\r\n",
                "        self.result['q_Level']=self.result['q_Level'].astype(np.int64)\r\n",
                "        self.result.to_csv(to,index=False)\r\n",
                "        return self.result\r\n",
                "if __name__==\"__main__\":\r\n",
                "    parser = argparse.ArgumentParser()\r\n",
                "    parser.add_argument('--train_data', default=\"data/train_data.csv\", type=str, required=False, help='训练数据')\r\n",
                "    parser.add_argument('--test_data', default=\"data/test_data.csv\", type=str, required=False, help='测试数据')\r\n",
                "    parser.add_argument('--model', default=\"model/model_9.pth\", type=str, required=False, help='模型')\r\n",
                "    parser.add_argument('--to', default=\"res.csv\", type=str, required=False, help='保存')\r\n",
                "    args = parser.parse_args()\r\n",
                "    bert_tokenizer = BertTokenizer.from_pretrained('hfl/chinese-bert-wwm-ext')\r\n",
                "    data=Data(bert_tokenizer,args.train_data)\r\n",
                "    args = parser.parse_args()\r\n",
                "    s=Submit(args.test_data,args.model,data)\r\n",
                "    s.mkres(args.to)"
            ],
            "outputs": [
                {
                    "output_type": "stream",
                    "name": "stderr",
                    "text": [
                        "2970it [02:25, 20.36it/s]\n"
                    ]
                },
                {
                    "output_type": "execute_result",
                    "data": {
                        "text/plain": [
                            "      index  TestQuestionID  KnowledgeID  q_Level\n",
                            "0         0            5282         1221        1\n",
                            "1         1            3919          554        1\n",
                            "2         2            3996          915        1\n",
                            "3         3            1613          377        1\n",
                            "4         4            5172         1211        1\n",
                            "...     ...             ...          ...      ...\n",
                            "2965   2965            5370         1221        1\n",
                            "2966   2966            1691          389        1\n",
                            "2967   2967            2067          506        3\n",
                            "2968   2968             341           69        1\n",
                            "2969   2969            1989          500        1\n",
                            "\n",
                            "[2970 rows x 4 columns]"
                        ],
                        "text/html": [
                            "<div>\n",
                            "<style scoped>\n",
                            "    .dataframe tbody tr th:only-of-type {\n",
                            "        vertical-align: middle;\n",
                            "    }\n",
                            "\n",
                            "    .dataframe tbody tr th {\n",
                            "        vertical-align: top;\n",
                            "    }\n",
                            "\n",
                            "    .dataframe thead th {\n",
                            "        text-align: right;\n",
                            "    }\n",
                            "</style>\n",
                            "<table border=\"1\" class=\"dataframe\">\n",
                            "  <thead>\n",
                            "    <tr style=\"text-align: right;\">\n",
                            "      <th></th>\n",
                            "      <th>index</th>\n",
                            "      <th>TestQuestionID</th>\n",
                            "      <th>KnowledgeID</th>\n",
                            "      <th>q_Level</th>\n",
                            "    </tr>\n",
                            "  </thead>\n",
                            "  <tbody>\n",
                            "    <tr>\n",
                            "      <th>0</th>\n",
                            "      <td>0</td>\n",
                            "      <td>5282</td>\n",
                            "      <td>1221</td>\n",
                            "      <td>1</td>\n",
                            "    </tr>\n",
                            "    <tr>\n",
                            "      <th>1</th>\n",
                            "      <td>1</td>\n",
                            "      <td>3919</td>\n",
                            "      <td>554</td>\n",
                            "      <td>1</td>\n",
                            "    </tr>\n",
                            "    <tr>\n",
                            "      <th>2</th>\n",
                            "      <td>2</td>\n",
                            "      <td>3996</td>\n",
                            "      <td>915</td>\n",
                            "      <td>1</td>\n",
                            "    </tr>\n",
                            "    <tr>\n",
                            "      <th>3</th>\n",
                            "      <td>3</td>\n",
                            "      <td>1613</td>\n",
                            "      <td>377</td>\n",
                            "      <td>1</td>\n",
                            "    </tr>\n",
                            "    <tr>\n",
                            "      <th>4</th>\n",
                            "      <td>4</td>\n",
                            "      <td>5172</td>\n",
                            "      <td>1211</td>\n",
                            "      <td>1</td>\n",
                            "    </tr>\n",
                            "    <tr>\n",
                            "      <th>...</th>\n",
                            "      <td>...</td>\n",
                            "      <td>...</td>\n",
                            "      <td>...</td>\n",
                            "      <td>...</td>\n",
                            "    </tr>\n",
                            "    <tr>\n",
                            "      <th>2965</th>\n",
                            "      <td>2965</td>\n",
                            "      <td>5370</td>\n",
                            "      <td>1221</td>\n",
                            "      <td>1</td>\n",
                            "    </tr>\n",
                            "    <tr>\n",
                            "      <th>2966</th>\n",
                            "      <td>2966</td>\n",
                            "      <td>1691</td>\n",
                            "      <td>389</td>\n",
                            "      <td>1</td>\n",
                            "    </tr>\n",
                            "    <tr>\n",
                            "      <th>2967</th>\n",
                            "      <td>2967</td>\n",
                            "      <td>2067</td>\n",
                            "      <td>506</td>\n",
                            "      <td>3</td>\n",
                            "    </tr>\n",
                            "    <tr>\n",
                            "      <th>2968</th>\n",
                            "      <td>2968</td>\n",
                            "      <td>341</td>\n",
                            "      <td>69</td>\n",
                            "      <td>1</td>\n",
                            "    </tr>\n",
                            "    <tr>\n",
                            "      <th>2969</th>\n",
                            "      <td>2969</td>\n",
                            "      <td>1989</td>\n",
                            "      <td>500</td>\n",
                            "      <td>1</td>\n",
                            "    </tr>\n",
                            "  </tbody>\n",
                            "</table>\n",
                            "<p>2970 rows × 4 columns</p>\n",
                            "</div>"
                        ]
                    },
                    "metadata": {},
                    "execution_count": 6
                }
            ],
            "metadata": {}
        },
        {
            "cell_type": "code",
            "execution_count": 6,
            "source": [],
            "outputs": [
                {
                    "output_type": "stream",
                    "name": "stderr",
                    "text": [
                        "2289it [00:00, 7969.18it/s]\n"
                    ]
                }
            ],
            "metadata": {}
        },
        {
            "cell_type": "code",
            "execution_count": 2,
            "source": [
                "data_test=Data(data.tokenizer,\"data/test_data.csv\",train=False,batch_size=1)"
            ],
            "outputs": [],
            "metadata": {}
        },
        {
            "cell_type": "code",
            "execution_count": 1,
            "source": [
                "import torchmetrics"
            ],
            "outputs": [],
            "metadata": {}
        },
        {
            "cell_type": "code",
            "execution_count": null,
            "source": [
                "torchmetrics.FBeta"
            ],
            "outputs": [],
            "metadata": {}
        }
    ],
    "metadata": {
        "orig_nbformat": 4,
        "language_info": {
            "name": "python",
            "version": "3.8.8",
            "mimetype": "text/x-python",
            "codemirror_mode": {
                "name": "ipython",
                "version": 3
            },
            "pygments_lexer": "ipython3",
            "nbconvert_exporter": "python",
            "file_extension": ".py"
        },
        "kernelspec": {
            "name": "python3",
            "display_name": "Python 3.8.8 64-bit ('base': conda)"
        },
        "interpreter": {
            "hash": "40c4e17f077218d16613fe0a521debfb2207e39289331d3ad681e8733da961f0"
        }
    },
    "nbformat": 4,
    "nbformat_minor": 2
}